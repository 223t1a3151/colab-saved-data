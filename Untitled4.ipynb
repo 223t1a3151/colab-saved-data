{
  "nbformat": 4,
  "nbformat_minor": 0,
  "metadata": {
    "colab": {
      "provenance": [],
      "authorship_tag": "ABX9TyOr6UatFKpapaSASqeVxjDb",
      "include_colab_link": true
    },
    "kernelspec": {
      "name": "python3",
      "display_name": "Python 3"
    },
    "language_info": {
      "name": "python"
    }
  },
  "cells": [
    {
      "cell_type": "markdown",
      "metadata": {
        "id": "view-in-github",
        "colab_type": "text"
      },
      "source": [
        "<a href=\"https://colab.research.google.com/github/223t1a3151/deep-learning/blob/main/Untitled4.ipynb\" target=\"_parent\"><img src=\"https://colab.research.google.com/assets/colab-badge.svg\" alt=\"Open In Colab\"/></a>"
      ]
    },
    {
      "cell_type": "code",
      "execution_count": 1,
      "metadata": {
        "colab": {
          "base_uri": "https://localhost:8080/"
        },
        "id": "3t9X7xce2dc-",
        "outputId": "fc2340f9-cf11-46a5-fc81-a523252a230d"
      },
      "outputs": [
        {
          "output_type": "stream",
          "name": "stdout",
          "text": [
            "[25, 12, 15]\n",
            "[7, 13, 8]\n",
            "[14, 14, 4]\n"
          ]
        }
      ],
      "source": [
        "x = [[12, 7, 8] , [3, 6, 7] , [9, 6, 1]]\n",
        "y = [[13, 5, 7] , [4, 7, 1] , [5, 8, 3]]\n",
        "result = [[0, 0, 0] , [0, 0, 0] , [0, 0, 0]]\n",
        "for i in range(len(x)):\n",
        "  for j in range(len(x[0])):\n",
        "    result[i][j] = x[i][j] + y[i][j]\n",
        "for r in result:\n",
        "    print(r)"
      ]
    },
    {
      "cell_type": "code",
      "source": [
        "x = [[1,4,5] , [4,6,7]]\n",
        "y = [[1,5,8] , [4,7,8]]\n",
        "result = [[0,0,0] , [0,0,0]]\n",
        "for i in range(len(x)):\n",
        "  for j in range(len(x[0])):\n",
        "    result[i][j] = x[i][j] * y[i][j]\n",
        "for r in result:\n",
        "  print(r)"
      ],
      "metadata": {
        "colab": {
          "base_uri": "https://localhost:8080/"
        },
        "id": "CqX8f2z53CpU",
        "outputId": "5a725bb7-5e9a-4b48-d2cb-94a7fa1baa29"
      },
      "execution_count": 2,
      "outputs": [
        {
          "output_type": "stream",
          "name": "stdout",
          "text": [
            "[1, 20, 40]\n",
            "[16, 42, 56]\n"
          ]
        }
      ]
    },
    {
      "cell_type": "code",
      "source": [
        "x = [[1,2,3] , [4,5,6]]\n",
        "result = [[0,0], [0,0] , [0,0]]\n",
        "for i in range(len(x)):\n",
        "  for j in range(len(x[0])):\n",
        "    result[j][i] = x[i][j]\n",
        "for r in result:\n",
        "  print(r)"
      ],
      "metadata": {
        "colab": {
          "base_uri": "https://localhost:8080/"
        },
        "id": "QbH1KIb53IPa",
        "outputId": "e71f4167-1278-492a-d42a-5835e1999431"
      },
      "execution_count": 3,
      "outputs": [
        {
          "output_type": "stream",
          "name": "stdout",
          "text": [
            "[1, 4]\n",
            "[2, 5]\n",
            "[3, 6]\n"
          ]
        }
      ]
    },
    {
      "cell_type": "code",
      "source": [
        "x = [[12,3,4] , [4,5,7]]\n",
        "y = [[14,6,7] , [1,2,3]]\n",
        "result = [[0,0,0] , [0,0,0]]\n",
        "for i in range(len(x)):\n",
        "  for j in range(len(x[0])):\n",
        "    result[i][j] = x[i][j] / y[i][j]\n",
        "for r in result:\n",
        "  print(r)"
      ],
      "metadata": {
        "colab": {
          "base_uri": "https://localhost:8080/"
        },
        "id": "9H1VH0-d3jjR",
        "outputId": "b6945f67-2e11-454f-dd1c-600d37ff9d2c"
      },
      "execution_count": 4,
      "outputs": [
        {
          "output_type": "stream",
          "name": "stdout",
          "text": [
            "[0.8571428571428571, 0.5, 0.5714285714285714]\n",
            "[4.0, 2.5, 2.3333333333333335]\n"
          ]
        }
      ]
    },
    {
      "cell_type": "code",
      "source": [
        "x = [[12,4,7] , [6,2,1]]\n",
        "y = [[14,8,5] , [2,6,1]]\n",
        "result = [[0,0,0] , [0,0,0]]\n",
        "for i in range(len(x)):\n",
        "  for j in range(len(x[0])):\n",
        "    result[i][j] = x[i][j] - y[i][j]\n",
        "for r in result:\n",
        "  print(r)"
      ],
      "metadata": {
        "colab": {
          "base_uri": "https://localhost:8080/"
        },
        "id": "D3dpOSdl3pEB",
        "outputId": "f4868503-d34e-434a-eb18-15371036ef32"
      },
      "execution_count": 5,
      "outputs": [
        {
          "output_type": "stream",
          "name": "stdout",
          "text": [
            "[-2, -4, 2]\n",
            "[4, -4, 0]\n"
          ]
        }
      ]
    }
  ]
}